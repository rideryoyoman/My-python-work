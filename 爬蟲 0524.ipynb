{
 "cells": [
  {
   "cell_type": "code",
   "execution_count": 1,
   "metadata": {},
   "outputs": [],
   "source": [
    "import requests"
   ]
  },
  {
   "cell_type": "code",
   "execution_count": 2,
   "metadata": {},
   "outputs": [],
   "source": [
    "from pyquery import PyQuery as pq"
   ]
  },
  {
   "cell_type": "code",
   "execution_count": 3,
   "metadata": {},
   "outputs": [],
   "source": [
    "res = requests.get(\"http://webscraper.io/test-sites/e-commerce/allinone\")"
   ]
  },
  {
   "cell_type": "code",
   "execution_count": 4,
   "metadata": {},
   "outputs": [],
   "source": [
    "doc = pq(res.text)"
   ]
  },
  {
   "cell_type": "code",
   "execution_count": 5,
   "metadata": {},
   "outputs": [
    {
     "ename": "SelectorSyntaxError",
     "evalue": "Expected selector, got <DELIM '\u0007' at 29> (<string>)",
     "output_type": "error",
     "traceback": [
      "Traceback \u001b[1;36m(most recent call last)\u001b[0m:\n",
      "  File \u001b[0;32m\"C:\\Users\\you sheng su\\Anaconda3\\lib\\site-packages\\IPython\\core\\interactiveshell.py\"\u001b[0m, line \u001b[0;32m2910\u001b[0m, in \u001b[0;35mrun_code\u001b[0m\n    exec(code_obj, self.user_global_ns, self.user_ns)\n",
      "  File \u001b[0;32m\"<ipython-input-5-0edece15abcd>\"\u001b[0m, line \u001b[0;32m2\u001b[0m, in \u001b[0;35m<module>\u001b[0m\n    for eachCateDoc in doc(\"#side-menu>li:nth-child(n+2)>\\a\").items():\n",
      "  File \u001b[0;32m\"C:\\Users\\you sheng su\\Anaconda3\\lib\\site-packages\\pyquery\\pyquery.py\"\u001b[0m, line \u001b[0;32m299\u001b[0m, in \u001b[0;35m__call__\u001b[0m\n    result = self._copy(*args, parent=self, **kwargs)\n",
      "  File \u001b[0;32m\"C:\\Users\\you sheng su\\Anaconda3\\lib\\site-packages\\pyquery\\pyquery.py\"\u001b[0m, line \u001b[0;32m285\u001b[0m, in \u001b[0;35m_copy\u001b[0m\n    return self.__class__(*args, **kwargs)\n",
      "  File \u001b[0;32m\"C:\\Users\\you sheng su\\Anaconda3\\lib\\site-packages\\pyquery\\pyquery.py\"\u001b[0m, line \u001b[0;32m270\u001b[0m, in \u001b[0;35m__init__\u001b[0m\n    xpath = self._css_to_xpath(selector)\n",
      "  File \u001b[0;32m\"C:\\Users\\you sheng su\\Anaconda3\\lib\\site-packages\\pyquery\\pyquery.py\"\u001b[0m, line \u001b[0;32m281\u001b[0m, in \u001b[0;35m_css_to_xpath\u001b[0m\n    return self._translator.css_to_xpath(selector, prefix)\n",
      "  File \u001b[0;32m\"C:\\Users\\you sheng su\\Anaconda3\\lib\\site-packages\\cssselect\\xpath.py\"\u001b[0m, line \u001b[0;32m192\u001b[0m, in \u001b[0;35mcss_to_xpath\u001b[0m\n    for selector in parse(css))\n",
      "  File \u001b[0;32m\"C:\\Users\\you sheng su\\Anaconda3\\lib\\site-packages\\cssselect\\parser.py\"\u001b[0m, line \u001b[0;32m355\u001b[0m, in \u001b[0;35mparse\u001b[0m\n    return list(parse_selector_group(stream))\n",
      "  File \u001b[0;32m\"C:\\Users\\you sheng su\\Anaconda3\\lib\\site-packages\\cssselect\\parser.py\"\u001b[0m, line \u001b[0;32m368\u001b[0m, in \u001b[0;35mparse_selector_group\u001b[0m\n    yield Selector(*parse_selector(stream))\n",
      "  File \u001b[0;32m\"C:\\Users\\you sheng su\\Anaconda3\\lib\\site-packages\\cssselect\\parser.py\"\u001b[0m, line \u001b[0;32m394\u001b[0m, in \u001b[0;35mparse_selector\u001b[0m\n    next_selector, pseudo_element = parse_simple_selector(stream)\n",
      "\u001b[1;36m  File \u001b[1;32m\"C:\\Users\\you sheng su\\Anaconda3\\lib\\site-packages\\cssselect\\parser.py\"\u001b[1;36m, line \u001b[1;32m475\u001b[1;36m, in \u001b[1;35mparse_simple_selector\u001b[1;36m\u001b[0m\n\u001b[1;33m    \"Expected selector, got %s\" % (peek,))\u001b[0m\n",
      "\u001b[1;36m  File \u001b[1;32m\"<string>\"\u001b[1;36m, line \u001b[1;32munknown\u001b[0m\n\u001b[1;31mSelectorSyntaxError\u001b[0m\u001b[1;31m:\u001b[0m Expected selector, got <DELIM '\u0007' at 29>\n"
     ]
    }
   ],
   "source": [
    "doc.make_links_absolute(base_url = res.url)\n",
    "for eachCateDoc in doc(\"#side-menu>li:nth-child(n+2)>\\a\").items():\n",
    "    lv1Doc = pq(eachCateDoc.attr(\"href\"))\n",
    "    lv1Doc.make_links_absolute(base_url = res.url)\n",
    "    for eachSubCateDoc in lv1Doc(\"#side-menu > li.active > ul > \\li > a\").items() :\n",
    "        lv2Doc = pq(eachSubCateDoc)\n",
    "        print(eachSubCateDoc.attr(\"bref\"))\n",
    "        \n",
    "    "
   ]
  },
  {
   "cell_type": "code",
   "execution_count": null,
   "metadata": {},
   "outputs": [],
   "source": []
  }
 ],
 "metadata": {
  "kernelspec": {
   "display_name": "Python 3",
   "language": "python",
   "name": "python3"
  },
  "language_info": {
   "codemirror_mode": {
    "name": "ipython",
    "version": 3
   },
   "file_extension": ".py",
   "mimetype": "text/x-python",
   "name": "python",
   "nbconvert_exporter": "python",
   "pygments_lexer": "ipython3",
   "version": "3.6.4"
  }
 },
 "nbformat": 4,
 "nbformat_minor": 2
}
