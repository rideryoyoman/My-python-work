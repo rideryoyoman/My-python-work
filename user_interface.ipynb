{
 "cells": [
  {
   "cell_type": "code",
   "execution_count": null,
   "metadata": {},
   "outputs": [
    {
     "name": "stdout",
     "output_type": "stream",
     "text": [
      "請輸入使用者名稱： 123\n",
      "請輸入密碼: 132\n",
      "輸入錯誤，請重新輸入\n",
      "輸入錯誤三次，退出\n",
      "請輸入使用者名稱： 123\n",
      "請輸入密碼: 132\n",
      "輸入錯誤，請重新輸入\n",
      "輸入錯誤三次，退出\n"
     ]
    }
   ],
   "source": [
    "a = 0\n",
    "while a < 3:\n",
    "    name = input(\"請輸入使用者名稱： \")\n",
    "    password = input(\"請輸入密碼: \")\n",
    "    a = a + 1\n",
    "    if name == 'login' and password == '123456':\n",
    "        print(\"Succeed\")\n",
    "        a = 4\n",
    "    else:\n",
    "        print(\"輸入錯誤，請重新輸入\")\n",
    "        print(\"輸入錯誤三次，退出\")"
   ]
  },
  {
   "cell_type": "code",
   "execution_count": null,
   "metadata": {},
   "outputs": [],
   "source": []
  }
 ],
 "metadata": {
  "kernelspec": {
   "display_name": "Python 3",
   "language": "python",
   "name": "python3"
  },
  "language_info": {
   "codemirror_mode": {
    "name": "ipython",
    "version": 3
   },
   "file_extension": ".py",
   "mimetype": "text/x-python",
   "name": "python",
   "nbconvert_exporter": "python",
   "pygments_lexer": "ipython3",
   "version": "3.7.3"
  }
 },
 "nbformat": 4,
 "nbformat_minor": 2
}
