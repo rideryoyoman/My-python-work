{
 "cells": [
  {
   "cell_type": "code",
   "execution_count": 5,
   "metadata": {},
   "outputs": [
    {
     "name": "stdout",
     "output_type": "stream",
     "text": [
      "************* Module example01\n",
      "example01.py:25:0: C0305: Trailing newlines (trailing-newlines)\n",
      "example01.py:1:0: C0111: Missing module docstring (missing-docstring)\n",
      "example01.py:7:0: C0103: Constant name \"a\" doesn't conform to UPPER_CASE naming style (invalid-name)\n",
      "example01.py:8:0: C0103: Constant name \"b\" doesn't conform to UPPER_CASE naming style (invalid-name)\n",
      "example01.py:9:0: C0103: Constant name \"c\" doesn't conform to UPPER_CASE naming style (invalid-name)\n",
      "example01.py:12:6: E0602: Undefined variable 'f' (undefined-variable)\n",
      "\n",
      "--------------------------------------------------------------------\n",
      "\n",
      "Your code has been rated at -6.67/10 (previous run: -6.67/10, +0.00)\n",
      "\n",
      "\n",
      "\n",
      "\n"
     ]
    }
   ],
   "source": [
    "## 用os.system只會回傳一個不知道是什麼的整數，以popen的方法才能在notebook印出\n",
    "import os\n",
    "print(os.popen('pylint example01.py').read())"
   ]
  },
  {
   "cell_type": "code",
   "execution_count": null,
   "metadata": {},
   "outputs": [],
   "source": []
  }
 ],
 "metadata": {
  "kernelspec": {
   "display_name": "Python 3",
   "language": "python",
   "name": "python3"
  },
  "language_info": {
   "codemirror_mode": {
    "name": "ipython",
    "version": 3
   },
   "file_extension": ".py",
   "mimetype": "text/x-python",
   "name": "python",
   "nbconvert_exporter": "python",
   "pygments_lexer": "ipython3",
   "version": "3.7.3"
  }
 },
 "nbformat": 4,
 "nbformat_minor": 2
}
