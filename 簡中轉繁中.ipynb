{
 "cells": [
  {
   "cell_type": "code",
   "execution_count": 1,
   "metadata": {},
   "outputs": [],
   "source": [
    "import zhconv\n",
    "import sys\n",
    "import os\n",
    "\n",
    "def convertToZhtw(inputTsPath, outTsPath):\n",
    "    with open(inputTsPath,'r', encoding='UTF-8') as f:\n",
    "        content = f.read()\n",
    "        with open(outTsPath,'w',encoding='UTF-8') as f1:\n",
    "            f1.write(zhconv.convert(content, 'zh-tw'))\n",
    "\n",
    "convertToZhtw('zh_cn.json', 'zh_tw.json')"
   ]
  }
 ],
 "metadata": {
  "kernelspec": {
   "display_name": "Python 3",
   "language": "python",
   "name": "python3"
  },
  "language_info": {
   "codemirror_mode": {
    "name": "ipython",
    "version": 3
   },
   "file_extension": ".py",
   "mimetype": "text/x-python",
   "name": "python",
   "nbconvert_exporter": "python",
   "pygments_lexer": "ipython3",
   "version": "3.7.3"
  }
 },
 "nbformat": 4,
 "nbformat_minor": 2
}
