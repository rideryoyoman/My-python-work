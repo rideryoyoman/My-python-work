{
 "cells": [
  {
   "cell_type": "code",
   "execution_count": 1,
   "metadata": {},
   "outputs": [
    {
     "ename": "ModuleNotFoundError",
     "evalue": "No module named 'pyquery'",
     "output_type": "error",
     "traceback": [
      "\u001b[1;31m---------------------------------------------------------------------------\u001b[0m",
      "\u001b[1;31mModuleNotFoundError\u001b[0m                       Traceback (most recent call last)",
      "\u001b[1;32m<ipython-input-1-759077a75c07>\u001b[0m in \u001b[0;36m<module>\u001b[1;34m\u001b[0m\n\u001b[0;32m      6\u001b[0m \u001b[1;32mimport\u001b[0m \u001b[0mrequests\u001b[0m\u001b[1;33m\u001b[0m\u001b[1;33m\u001b[0m\u001b[0m\n\u001b[0;32m      7\u001b[0m \u001b[1;32mimport\u001b[0m \u001b[0mre\u001b[0m\u001b[1;33m\u001b[0m\u001b[1;33m\u001b[0m\u001b[0m\n\u001b[1;32m----> 8\u001b[1;33m \u001b[1;32mfrom\u001b[0m \u001b[0mpyquery\u001b[0m \u001b[1;32mimport\u001b[0m \u001b[0mPyQuery\u001b[0m \u001b[1;32mas\u001b[0m \u001b[0mpq\u001b[0m\u001b[1;33m\u001b[0m\u001b[1;33m\u001b[0m\u001b[0m\n\u001b[0m\u001b[0;32m      9\u001b[0m \u001b[1;32mfrom\u001b[0m \u001b[0mbs4\u001b[0m \u001b[1;32mimport\u001b[0m \u001b[0mBeautifulSoup\u001b[0m \u001b[1;32mas\u001b[0m \u001b[0mbs\u001b[0m\u001b[1;33m\u001b[0m\u001b[1;33m\u001b[0m\u001b[0m\n\u001b[0;32m     10\u001b[0m \u001b[1;33m\u001b[0m\u001b[0m\n",
      "\u001b[1;31mModuleNotFoundError\u001b[0m: No module named 'pyquery'"
     ]
    }
   ],
   "source": [
    "\n",
    "# coding: utf-8\n",
    "\n",
    "# In[ ]:\n",
    "\n",
    "\n",
    "import requests\n",
    "import re\n",
    "from pyquery import PyQuery as pq\n",
    "from bs4 import BeautifulSoup as bs\n",
    "\n",
    "\n",
    "Dic = {\"麥當勞\":\"20\" , \"肯德基\":\"21\" , \"摩斯漢堡\":\"22\" \n",
    "      , \"subway\":\"23\" , \"爭鮮\":\"24\" , \"cold stone\":\"25\"\n",
    "      , \"必勝客\":\"26\" , \"達美樂\":\"27\" , \"拿坡里\":\"28\"\n",
    "      , \"王品\":\"29\" , \"西堤\":\"30\" , \"陶板屋\":\"31\"\n",
    "      , \"85度C\":\"32\" , \"星巴克\":\"33\" , \"伯朗咖啡\":\"34\"\n",
    "      , \"怡客咖啡\":\"35\" , \"丹堤咖啡\":\"36\" , \"8％ice\":\"37\"\n",
    "      , \"21世紀\":\"38\" , \"吉野家\":\"39\" , \"Mister Donut\":\"40\"\n",
    "      , \"藝奇\":\"41\" , \"夏慕尼\":\"42\" , \"聚北海道\":\"43\"\n",
    "      , \"FRIDAYS\":\"44\" , \"三商巧福\":\"45\" , \"福勝亭\":\"46\"\n",
    "      , \"漢堡王\":\"47\" , \"頂呱呱\":\"48\" , \"原燒\":\"49\"\n",
    "       , \"711\":\"1\" , \"全家\":\"2\"\n",
    "      , \"萊爾富\":\"3\" , \"OK\":\"4\" , \"全聯\":\"5\"\n",
    "      , \"家樂福\":\"6\" , \"愛買\":\"7\" , \"康是美\":\"8\"\n",
    "      , \"大潤發\":\"9\" , \"HOLA\":\"10\" , \"特力屋\":\"11\"\n",
    "      , \"屈臣氏\":\"12\" , \"劍湖山\":\"13\" , \"六福村\":\"14\"\n",
    "      , \"義大\":\"15\" , \"好市多\":\"16\" , \"九族文化村\":\"17\"\n",
    "      , \"小人國\":\"18\" , \"頂好\":\"19\" \n",
    "      ,\"義美\":\"50\" , \"悠遊卡\":\"51\" , \"一卡通\":\"52\"\n",
    "      ,\"美廉社\":\"55\" , \"寶雅\":\"56\" , \"小北百貨\":\"58\"\n",
    "      }\n",
    "\n",
    "number = Dic[input(\"今天你想吃什麼><\")]\n",
    "url = \"http://coupon.baibai.com.tw/Coupon.asp?store=\" + number\n",
    "\n",
    "res = requests.get(url)\n",
    "res.encoding = \"big5\"\n",
    "doc = pq(res.text)\n",
    "soup = bs(res.text, 'html.parser')\n",
    "#ans = soup.find('a',href = \"Coupon.asp?store=\" + number)\n",
    "#ans = soup.find_all('img')\n",
    "for link in soup.find_all('a'):\n",
    "    ans = link.get('href')\n",
    "    if \"jpg\" in ans:\n",
    "        print(ans)\n",
    "        print(\"----------------------\")\n",
    "a = input()\n",
    "\n",
    "\n",
    "\n",
    "\n",
    "# In[ ]:\n",
    "\n",
    "\n",
    "k = soup.find_all()\n",
    "\n"
   ]
  },
  {
   "cell_type": "code",
   "execution_count": null,
   "metadata": {},
   "outputs": [],
   "source": []
  }
 ],
 "metadata": {
  "kernelspec": {
   "display_name": "Python 3",
   "language": "python",
   "name": "python3"
  },
  "language_info": {
   "codemirror_mode": {
    "name": "ipython",
    "version": 3
   },
   "file_extension": ".py",
   "mimetype": "text/x-python",
   "name": "python",
   "nbconvert_exporter": "python",
   "pygments_lexer": "ipython3",
   "version": "3.7.3"
  }
 },
 "nbformat": 4,
 "nbformat_minor": 2
}
