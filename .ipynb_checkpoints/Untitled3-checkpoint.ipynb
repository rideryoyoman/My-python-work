{
 "cells": [
  {
   "cell_type": "markdown",
   "metadata": {},
   "source": [
    "import requests\n",
    "from pyquery import PyQuery as pq"
   ]
  },
  {
   "cell_type": "markdown",
   "metadata": {},
   "source": [
    "import requests\n",
    "from pyquery import PyQuery as pq\n",
    "res = requests.get(\"http://tieba.baidu.com/p/2460150866\")\n",
    "doc = pq(res.text)\n",
    "print(res.encoding)"
   ]
  },
  {
   "cell_type": "markdown",
   "metadata": {},
   "source": [
    "doc.make_links_absolute(base_url=res.url)\n",
    "for eachlv1Doc in doc(\".ui-content .ui-list\").items():\n",
    "    "
   ]
  },
  {
   "cell_type": "markdown",
   "metadata": {},
   "source": [
    "doc(#home > div.ui-content)\n"
   ]
  },
  {
   "cell_type": "markdown",
   "metadata": {},
   "source": [
    "import requests\n",
    "from pyquery import PyQuery as pq\n",
    "number = input()\n",
    "\n",
    "res = requests.get(\"http://coupon.baibai.com.tw\" )\n",
    "res.encoding = \"big5\"\n",
    "doc = pq(res.text)\n",
    "\n",
    "path = '#home > div.ui-content > center:nth-child(1) > table:nth-child(2) > tbody > tr > td ,a '\n",
    "\n",
    "#search = input()\n",
    "\n",
    "for each in doc(path).items():\n",
    "    attr = each.attr('href')\n",
    "    title = each('img').attr('title')\n",
    "    pic = each('img').attr('src')\n",
    "\n",
    "    print(title)\n",
    "    print(pic)\n",
    "    print(attr)\n",
    "    print('----------------------------')"
   ]
  },
  {
   "cell_type": "markdown",
   "metadata": {},
   "source": [
    "import requests\n",
    "from pyquery import PyQuery as pq\n",
    "director_firstname, director_lastname = input().split()\n",
    "\n",
    "res = requests.get(\"https://www.imdb.com/find?ref_=nv_sr_fn&q=\"+director_firstname+director_lastname+\"&s=all\")\n",
    "docc = pq(res.text)\n",
    "doc = pq(docc(\"#main > div > div:nth-child(3) > table  > tr:nth-child(1) > td.result_text > a\")).attr(\"href\")\n",
    "director_url = \"https://www.imdb.com\"+doc\n",
    "\n",
    "res2 = requests.get(director_url)\n",
    "doc2 = pq(res2.text)\n",
    "\n",
    "num_movie = pq(doc2(\"#filmo-head-director\")).text()\n",
    "num_movie = num_movie.split()\n",
    "num_movie = num_movie[3]\n",
    "num_movie = num_movie.lstrip('(')\n",
    "print(num_movie + \" credits\")\n",
    "\n",
    "for eachDoc in doc2(\"#filmography > div:nth-child(2) > .filmo-row\").items():\n",
    "    movie_name = pq(eachDoc(\"b\")).text()\n",
    "    movie_year = pq(eachDoc(\".year_column\")).text()   \n",
    "    #director-tt1025100 > span\n",
    "    if movie_year == \"\":\n",
    "        print(movie_name)\n",
    "    else:\n",
    "        print(movie_name+\",\"+movie_year)\n"
   ]
  },
  {
   "cell_type": "markdown",
   "metadata": {},
   "source": [
    "import requests\n",
    "\n",
    "def fetch(url):\n",
    "    response = requests.get(url)\n",
    "    return response\n",
    "\n",
    "url = 'http://coupon.baibai.com.tw'\n",
    "resp = fetch(url)  # step-1\n",
    "\n",
    "print(resp.text) # result of setp-1"
   ]
  },
  {
   "cell_type": "markdown",
   "metadata": {},
   "source": [
    "import urllib.request\n",
    "import re\n",
    "import os\n",
    "import urllib\n",
    "#根據給定的網址來獲取網頁詳細資訊，得到的html就是網頁的原始碼  \n",
    "def getHtml(url):\n",
    "    page = urllib.request.urlopen(url)\n",
    "    html = page.read()\n",
    "    return html.decode('UTF-8')\n",
    " \n",
    "def getImg(html):\n",
    "    reg = r'src=\"(.+?\\.jpg)\" pic_ext'\n",
    "    imgre = re.compile(reg)\n",
    "    imglist = imgre.findall(html)#表示在整個網頁中過濾出所有圖片的地址，放在imglist中\n",
    "    x = 0\n",
    "    path = 'D:\\\\test'  \n",
    "    # 將圖片儲存到D:\\\\test文件夾中，如果沒有test文件夾則建立\n",
    "    if not os.path.isdir(path):\n",
    "        os.makedirs(path)  \n",
    "        paths = path+'\\\\'      #儲存在test路徑下  \n",
    " \n",
    "    for imgurl in imglist:  \n",
    "        urllib.request.urlretrieve(imgurl,'{}{}.jpg'.format(paths,x))  #開啟imglist中儲存的圖片網址，並下載圖片儲存在本地，format格式化字串 \n",
    "        x = x + 1  \n",
    "    return imglist\n",
    "html = getHtml(\"http://tieba.baidu.com/p/2460150866\")#獲取該網址網頁詳細資訊，得到的html就是網頁的原始碼  \n",
    "print (getImg(html)) #從網頁原始碼中分析並下載儲存圖片"
   ]
  },
  {
   "cell_type": "code",
   "execution_count": 93,
   "metadata": {},
   "outputs": [
    {
     "name": "stdout",
     "output_type": "stream",
     "text": [
      "30\n"
     ]
    },
    {
     "data": {
      "text/plain": [
       "<a href=\"Coupon.asp?store=30\" target=\"_new\">\n",
       "<img alt=\"西堤牛排                \" border=\"0\" src=\"30.png\" title=\"西堤牛排                \" width=\"95\"/></a>"
      ]
     },
     "execution_count": 93,
     "metadata": {},
     "output_type": "execute_result"
    }
   ],
   "source": [
    "import requests\n",
    "from pyquery import PyQuery as pq\n",
    "from bs4 import BeautifulSoup as bs\n",
    "number = input()\n",
    "\n",
    "res = requests.get(\"http://coupon.baibai.com.tw\" )\n",
    "res.encoding = \"big5\"\n",
    "doc = pq(res.text)\n",
    "ans = soup.find('a',href = \"Coupon.asp?store=\" + number)\n",
    "\n",
    "k = soup.find('img' , src= number +\".png\")\n",
    "ans\n",
    "\n"
   ]
  },
  {
   "cell_type": "code",
   "execution_count": null,
   "metadata": {},
   "outputs": [],
   "source": []
  },
  {
   "cell_type": "code",
   "execution_count": null,
   "metadata": {},
   "outputs": [],
   "source": []
  },
  {
   "cell_type": "code",
   "execution_count": null,
   "metadata": {},
   "outputs": [],
   "source": []
  },
  {
   "cell_type": "code",
   "execution_count": null,
   "metadata": {},
   "outputs": [],
   "source": []
  },
  {
   "cell_type": "code",
   "execution_count": null,
   "metadata": {},
   "outputs": [],
   "source": []
  }
 ],
 "metadata": {
  "kernelspec": {
   "display_name": "Python 3",
   "language": "python",
   "name": "python3"
  },
  "language_info": {
   "codemirror_mode": {
    "name": "ipython",
    "version": 3
   },
   "file_extension": ".py",
   "mimetype": "text/x-python",
   "name": "python",
   "nbconvert_exporter": "python",
   "pygments_lexer": "ipython3",
   "version": "3.6.4"
  }
 },
 "nbformat": 4,
 "nbformat_minor": 2
}
