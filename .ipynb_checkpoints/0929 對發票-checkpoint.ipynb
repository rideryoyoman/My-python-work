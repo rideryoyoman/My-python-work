{
 "cells": [
  {
   "cell_type": "code",
   "execution_count": null,
   "metadata": {},
   "outputs": [],
   "source": [
    "a = input(\"輸入銀行帳號\")"
   ]
  },
  {
   "cell_type": "code",
   "execution_count": null,
   "metadata": {},
   "outputs": [],
   "source": [
    "print a"
   ]
  },
  {
   "cell_type": "code",
   "execution_count": null,
   "metadata": {},
   "outputs": [],
   "source": [
    "print(a\n",
    "    )"
   ]
  },
  {
   "cell_type": "code",
   "execution_count": null,
   "metadata": {},
   "outputs": [],
   "source": [
    "str = \"123456789\""
   ]
  },
  {
   "cell_type": "code",
   "execution_count": null,
   "metadata": {},
   "outputs": [],
   "source": [
    "str"
   ]
  },
  {
   "cell_type": "code",
   "execution_count": null,
   "metadata": {},
   "outputs": [],
   "source": [
    "str[1]"
   ]
  },
  {
   "cell_type": "code",
   "execution_count": null,
   "metadata": {},
   "outputs": [],
   "source": [
    "str[0::3]"
   ]
  },
  {
   "cell_type": "code",
   "execution_count": null,
   "metadata": {},
   "outputs": [],
   "source": [
    "str[0::1]"
   ]
  },
  {
   "cell_type": "code",
   "execution_count": null,
   "metadata": {},
   "outputs": [],
   "source": [
    "slice[0::2]"
   ]
  },
  {
   "cell_type": "code",
   "execution_count": null,
   "metadata": {},
   "outputs": [],
   "source": [
    "str[0:3]"
   ]
  },
  {
   "cell_type": "code",
   "execution_count": 8,
   "metadata": {},
   "outputs": [
    {
     "ename": "SyntaxError",
     "evalue": "invalid syntax (<ipython-input-8-a271f8f41b27>, line 22)",
     "output_type": "error",
     "traceback": [
      "\u001b[1;36m  File \u001b[1;32m\"<ipython-input-8-a271f8f41b27>\"\u001b[1;36m, line \u001b[1;32m22\u001b[0m\n\u001b[1;33m    foreach( n = 5 ; b(n:8) == fp1(n:8) ; n++):\u001b[0m\n\u001b[1;37m                   ^\u001b[0m\n\u001b[1;31mSyntaxError\u001b[0m\u001b[1;31m:\u001b[0m invalid syntax\n"
     ]
    }
   ],
   "source": [
    "a = input(\"請輸入發票末三碼\")\n",
    "\n",
    "num = ['818','012','420','436','621']\n",
    "six = ['928','899']\n",
    "speX = '45698621'\n",
    "spe = '19614436'\n",
    "fp = ['420','012','818']\n",
    "fp1 = '96182420'\n",
    "fp2 = '47464012'\n",
    "fp3 = '62781818'\n",
    "fpa = ['2420','4012','1818']\n",
    "fpb = ['']\n",
    "\n",
    "if(len(a) == 3):\n",
    "    if(a in num):\n",
    "        print(\"中獎了!請輸入完整發票號碼!!\")\n",
    "        b = input(\"請輸入發票完整八碼\")\n",
    "        c = b[5:8]\n",
    "        if(b == speX):\n",
    "            print(\"恭喜中特別獎1000萬!\")\n",
    "        elif(b == spe):\n",
    "            print(\"恭喜中特獎200萬!\")\n",
    "        elif(c in fp):\n",
    "            for c in fp:\n",
    "                int n = 5;\n",
    "                if(b(n:8) == fp1(n:8)):\n",
    "                    n = n + 1;\n",
    "    elif(a in six):\n",
    "        print(\"中獎了!恭喜中特別獎200元!\")\n",
    "    else:\n",
    "        print(\"可惜沒有中獎!下個月再加油\")\n",
    "else:\n",
    "    print(\"請輸入正確的發票末三碼！\")\n",
    "            \n",
    "            \n",
    "        \n",
    "        \n",
    "        \n",
    "        \n",
    "    "
   ]
  },
  {
   "cell_type": "code",
   "execution_count": 4,
   "metadata": {},
   "outputs": [
    {
     "name": "stdout",
     "output_type": "stream",
     "text": [
      "012\n"
     ]
    }
   ],
   "source": []
  },
  {
   "cell_type": "code",
   "execution_count": null,
   "metadata": {},
   "outputs": [],
   "source": []
  }
 ],
 "metadata": {
  "kernelspec": {
   "display_name": "Python 3",
   "language": "python",
   "name": "python3"
  },
  "language_info": {
   "codemirror_mode": {
    "name": "ipython",
    "version": 3
   },
   "file_extension": ".py",
   "mimetype": "text/x-python",
   "name": "python",
   "nbconvert_exporter": "python",
   "pygments_lexer": "ipython3",
   "version": "3.7.3"
  }
 },
 "nbformat": 4,
 "nbformat_minor": 2
}
