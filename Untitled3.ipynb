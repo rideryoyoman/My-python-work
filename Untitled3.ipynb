{
 "cells": [
  {
   "cell_type": "markdown",
   "metadata": {},
   "source": [
    "import requests\n",
    "from pyquery import PyQuery as pq"
   ]
  },
  {
   "cell_type": "markdown",
   "metadata": {},
   "source": [
    "import requests\n",
    "from pyquery import PyQuery as pq\n",
    "res = requests.get(\"http://tieba.baidu.com/p/2460150866\")\n",
    "doc = pq(res.text)\n",
    "print(res.encoding)"
   ]
  },
  {
   "cell_type": "markdown",
   "metadata": {},
   "source": [
    "doc.make_links_absolute(base_url=res.url)\n",
    "for eachlv1Doc in doc(\".ui-content .ui-list\").items():\n",
    "    "
   ]
  },
  {
   "cell_type": "markdown",
   "metadata": {},
   "source": [
    "doc(#home > div.ui-content)\n"
   ]
  },
  {
   "cell_type": "markdown",
   "metadata": {},
   "source": [
    "import requests\n",
    "from pyquery import PyQuery as pq\n",
    "number = input()\n",
    "\n",
    "res = requests.get(\"http://coupon.baibai.com.tw\" )\n",
    "res.encoding = \"big5\"\n",
    "doc = pq(res.text)\n",
    "\n",
    "path = '#home > div.ui-content > center:nth-child(1) > table:nth-child(2) > tbody > tr > td ,a '\n",
    "\n",
    "#search = input()\n",
    "\n",
    "for each in doc(path).items():\n",
    "    attr = each.attr('href')\n",
    "    title = each('img').attr('title')\n",
    "    pic = each('img').attr('src')\n",
    "\n",
    "    print(title)\n",
    "    print(pic)\n",
    "    print(attr)\n",
    "    print('----------------------------')"
   ]
  },
  {
   "cell_type": "markdown",
   "metadata": {},
   "source": [
    "import requests\n",
    "from pyquery import PyQuery as pq\n",
    "director_firstname, director_lastname = input().split()\n",
    "\n",
    "res = requests.get(\"https://www.imdb.com/find?ref_=nv_sr_fn&q=\"+director_firstname+director_lastname+\"&s=all\")\n",
    "docc = pq(res.text)\n",
    "doc = pq(docc(\"#main > div > div:nth-child(3) > table  > tr:nth-child(1) > td.result_text > a\")).attr(\"href\")\n",
    "director_url = \"https://www.imdb.com\"+doc\n",
    "\n",
    "res2 = requests.get(director_url)\n",
    "doc2 = pq(res2.text)\n",
    "\n",
    "num_movie = pq(doc2(\"#filmo-head-director\")).text()\n",
    "num_movie = num_movie.split()\n",
    "num_movie = num_movie[3]\n",
    "num_movie = num_movie.lstrip('(')\n",
    "print(num_movie + \" credits\")\n",
    "\n",
    "for eachDoc in doc2(\"#filmography > div:nth-child(2) > .filmo-row\").items():\n",
    "    movie_name = pq(eachDoc(\"b\")).text()\n",
    "    movie_year = pq(eachDoc(\".year_column\")).text()   \n",
    "    #director-tt1025100 > span\n",
    "    if movie_year == \"\":\n",
    "        print(movie_name)\n",
    "    else:\n",
    "        print(movie_name+\",\"+movie_year)\n"
   ]
  },
  {
   "cell_type": "markdown",
   "metadata": {},
   "source": [
    "import requests\n",
    "\n",
    "def fetch(url):\n",
    "    response = requests.get(url)\n",
    "    return response\n",
    "\n",
    "url = 'http://coupon.baibai.com.tw'\n",
    "resp = fetch(url)  # step-1\n",
    "\n",
    "print(resp.text) # result of setp-1"
   ]
  },
  {
   "cell_type": "markdown",
   "metadata": {},
   "source": [
    "import urllib.request\n",
    "import re\n",
    "import os\n",
    "import urllib\n",
    "#根據給定的網址來獲取網頁詳細資訊，得到的html就是網頁的原始碼  \n",
    "def getHtml(url):\n",
    "    page = urllib.request.urlopen(url)\n",
    "    html = page.read()\n",
    "    return html.decode('UTF-8')\n",
    " \n",
    "def getImg(html):\n",
    "    reg = r'src=\"(.+?\\.jpg)\" pic_ext'\n",
    "    imgre = re.compile(reg)\n",
    "    imglist = imgre.findall(html)#表示在整個網頁中過濾出所有圖片的地址，放在imglist中\n",
    "    x = 0\n",
    "    path = 'D:\\\\test'  \n",
    "    # 將圖片儲存到D:\\\\test文件夾中，如果沒有test文件夾則建立\n",
    "    if not os.path.isdir(path):\n",
    "        os.makedirs(path)  \n",
    "        paths = path+'\\\\'      #儲存在test路徑下  \n",
    " \n",
    "    for imgurl in imglist:  \n",
    "        urllib.request.urlretrieve(imgurl,'{}{}.jpg'.format(paths,x))  #開啟imglist中儲存的圖片網址，並下載圖片儲存在本地，format格式化字串 \n",
    "        x = x + 1  \n",
    "    return imglist\n",
    "html = getHtml(\"http://tieba.baidu.com/p/2460150866\")#獲取該網址網頁詳細資訊，得到的html就是網頁的原始碼  \n",
    "print (getImg(html)) #從網頁原始碼中分析並下載儲存圖片"
   ]
  },
  {
   "cell_type": "markdown",
   "metadata": {},
   "source": [
    "import requests\n",
    "from pyquery import PyQuery as pq\n",
    "from bs4 import BeautifulSoup as bs\n",
    "number = input()\n",
    "\n",
    "res = requests.get(\"http://coupon.baibai.com.tw\" )\n",
    "res.encoding = \"big5\"\n",
    "doc = pq(res.text)\n",
    "ans = soup.find('a',href = \"Coupon.asp?store=\" + number)\n",
    "\n",
    "ans\n",
    "\n",
    "\n",
    "\n"
   ]
  },
  {
   "cell_type": "code",
   "execution_count": 103,
   "metadata": {},
   "outputs": [
    {
     "data": {
      "text/plain": [
       "[<img alt=\"美食特蒐\" border=\"0\" src=\"/search.png\" style=\"width:95\" title=\"美食特蒐\" width=\"88\"/>,\n",
       " <img alt=\"麥當勞                 \" border=\"0\" src=\"20.png\" title=\"麥當勞                 \" width=\"95\"/>,\n",
       " <img alt=\"肯德基                 \" border=\"0\" src=\"21.png\" title=\"肯德基                 \" width=\"95\"/>,\n",
       " <img alt=\"MOS BURGER摩斯漢堡      \" border=\"0\" src=\"22.png\" title=\"MOS BURGER摩斯漢堡      \" width=\"95\"/>,\n",
       " <img alt=\"subway              \" border=\"0\" src=\"23.png\" title=\"subway              \" width=\"95\"/>,\n",
       " <img alt=\"爭鮮                  \" border=\"0\" src=\"24.png\" title=\"爭鮮                  \" width=\"95\"/>,\n",
       " <img alt=\"cold stone 酷聖石      \" border=\"0\" src=\"25.png\" title=\"cold stone 酷聖石      \" width=\"95\"/>,\n",
       " <img alt=\"Pizza Hut必勝客        \" border=\"0\" src=\"26.png\" title=\"Pizza Hut必勝客        \" width=\"95\"/>,\n",
       " <img alt=\"達美樂                 \" border=\"0\" src=\"27.png\" title=\"達美樂                 \" width=\"95\"/>,\n",
       " <img alt=\"拿坡里披薩               \" border=\"0\" src=\"28.png\" title=\"拿坡里披薩               \" width=\"95\"/>,\n",
       " <img alt=\"王品牛排                \" border=\"0\" src=\"29.png\" title=\"王品牛排                \" width=\"95\"/>,\n",
       " <img alt=\"西堤牛排                \" border=\"0\" src=\"30.png\" title=\"西堤牛排                \" width=\"95\"/>,\n",
       " <img alt=\"陶板屋                 \" border=\"0\" src=\"31.png\" title=\"陶板屋                 \" width=\"95\"/>,\n",
       " <img alt=\"85度C                \" border=\"0\" src=\"32.png\" title=\"85度C                \" width=\"95\"/>,\n",
       " <img alt=\"Starbucks 統一星巴克     \" border=\"0\" src=\"33.png\" title=\"Starbucks 統一星巴克     \" width=\"95\"/>,\n",
       " <img alt=\"伯朗咖啡                \" border=\"0\" src=\"34.png\" title=\"伯朗咖啡                \" width=\"95\"/>,\n",
       " <img alt=\"怡客咖啡                \" border=\"0\" src=\"35.png\" title=\"怡客咖啡                \" width=\"95\"/>,\n",
       " <img alt=\"丹堤咖啡                \" border=\"0\" src=\"36.png\" title=\"丹堤咖啡                \" width=\"95\"/>,\n",
       " <img alt=\"8％ice冰淇淋專門店         \" border=\"0\" src=\"37.png\" title=\"8％ice冰淇淋專門店         \" width=\"95\"/>,\n",
       " <img alt=\"21世紀風味館             \" border=\"0\" src=\"38.png\" title=\"21世紀風味館             \" width=\"95\"/>,\n",
       " <img alt=\"吉野家                 \" border=\"0\" src=\"39.png\" title=\"吉野家                 \" width=\"95\"/>,\n",
       " <img alt=\"Mister Donut甜甜圈專賣店  \" border=\"0\" src=\"40.png\" title=\"Mister Donut甜甜圈專賣店  \" width=\"95\"/>,\n",
       " <img alt=\"藝奇新日本料理             \" border=\"0\" src=\"41.png\" title=\"藝奇新日本料理             \" width=\"95\"/>,\n",
       " <img alt=\"夏慕尼新香榭鐵板燒           \" border=\"0\" src=\"42.png\" title=\"夏慕尼新香榭鐵板燒           \" width=\"95\"/>,\n",
       " <img alt=\"聚北海道昆布鍋             \" border=\"0\" src=\"43.png\" title=\"聚北海道昆布鍋             \" width=\"95\"/>,\n",
       " <img alt=\"星期五美式餐廳 TGI FRIDAYS \" border=\"0\" src=\"44.png\" title=\"星期五美式餐廳 TGI FRIDAYS \" width=\"95\"/>,\n",
       " <img alt=\"三商巧福                \" border=\"0\" src=\"45.png\" title=\"三商巧福                \" width=\"95\"/>,\n",
       " <img alt=\"福勝亭                 \" border=\"0\" src=\"46.png\" title=\"福勝亭                 \" width=\"95\"/>,\n",
       " <img alt=\"漢堡王burgerking       \" border=\"0\" src=\"47.png\" title=\"漢堡王burgerking       \" width=\"95\"/>,\n",
       " <img alt=\"頂呱呱                 \" border=\"0\" src=\"48.png\" title=\"頂呱呱                 \" width=\"95\"/>,\n",
       " <img alt=\"原燒優質原味燒肉            \" border=\"0\" src=\"49.png\" title=\"原燒優質原味燒肉            \" width=\"95\"/>,\n",
       " <img alt=\"7-11                \" border=\"0\" src=\"1.png\" title=\"7-11                \" width=\"95\"/>,\n",
       " <img alt=\"全家                  \" border=\"0\" src=\"2.png\" title=\"全家                  \" width=\"95\"/>,\n",
       " <img alt=\"萊爾富                 \" border=\"0\" src=\"3.png\" title=\"萊爾富                 \" width=\"95\"/>,\n",
       " <img alt=\"OK便利超商              \" border=\"0\" src=\"4.png\" title=\"OK便利超商              \" width=\"95\"/>,\n",
       " <img alt=\"全聯福利中心              \" border=\"0\" src=\"5.png\" title=\"全聯福利中心              \" width=\"95\"/>,\n",
       " <img alt=\"家樂福                 \" border=\"0\" src=\"6.png\" title=\"家樂福                 \" width=\"95\"/>,\n",
       " <img alt=\"愛買                  \" border=\"0\" src=\"7.png\" title=\"愛買                  \" width=\"95\"/>,\n",
       " <img alt=\"康是美                 \" border=\"0\" src=\"8.png\" title=\"康是美                 \" width=\"95\"/>,\n",
       " <img alt=\"大潤發                 \" border=\"0\" src=\"9.png\" title=\"大潤發                 \" width=\"95\"/>,\n",
       " <img alt=\"HOLA                \" border=\"0\" src=\"10.png\" title=\"HOLA                \" width=\"95\"/>,\n",
       " <img alt=\"特力屋                 \" border=\"0\" src=\"11.png\" title=\"特力屋                 \" width=\"95\"/>,\n",
       " <img alt=\"屈臣氏                 \" border=\"0\" src=\"12.png\" title=\"屈臣氏                 \" width=\"95\"/>,\n",
       " <img alt=\"劍湖山世界主題樂園           \" border=\"0\" src=\"13.png\" title=\"劍湖山世界主題樂園           \" width=\"95\"/>,\n",
       " <img alt=\"六福村主題遊樂園            \" border=\"0\" src=\"14.png\" title=\"六福村主題遊樂園            \" width=\"95\"/>,\n",
       " <img alt=\"義大遊樂世界              \" border=\"0\" src=\"15.png\" title=\"義大遊樂世界              \" width=\"95\"/>,\n",
       " <img alt=\"COSTCO 好市多          \" border=\"0\" src=\"16.png\" title=\"COSTCO 好市多          \" width=\"95\"/>,\n",
       " <img alt=\"九族文化村               \" border=\"0\" src=\"17.png\" title=\"九族文化村               \" width=\"95\"/>,\n",
       " <img alt=\"小人國                 \" border=\"0\" src=\"18.png\" title=\"小人國                 \" width=\"95\"/>,\n",
       " <img alt=\"頂好wellcome超市        \" border=\"0\" src=\"19.png\" title=\"頂好wellcome超市        \" width=\"95\"/>,\n",
       " <img alt=\"義美食品                \" border=\"0\" src=\"50.png\" title=\"義美食品                \" width=\"95\"/>,\n",
       " <img alt=\"悠遊卡                 \" border=\"0\" src=\"51.png\" title=\"悠遊卡                 \" width=\"95\"/>,\n",
       " <img alt=\"一卡通                 \" border=\"0\" src=\"52.png\" title=\"一卡通                 \" width=\"95\"/>,\n",
       " <img alt=\"Touch美髮美容           \" border=\"0\" src=\"53.png\" title=\"Touch美髮美容           \" width=\"95\"/>,\n",
       " <img alt=\"Kiss美髮美容名店          \" border=\"0\" src=\"54.png\" title=\"Kiss美髮美容名店          \" width=\"95\"/>,\n",
       " <img alt=\"美廉社                 \" border=\"0\" src=\"55.png\" title=\"美廉社                 \" width=\"95\"/>,\n",
       " <img alt=\"寶雅 POYA             \" border=\"0\" src=\"56.png\" title=\"寶雅 POYA             \" width=\"95\"/>,\n",
       " <img alt=\"美華泰流行生活館            \" border=\"0\" src=\"57.png\" title=\"美華泰流行生活館            \" width=\"95\"/>,\n",
       " <img alt=\"小北百貨                \" border=\"0\" src=\"58.png\" title=\"小北百貨                \" width=\"95\"/>,\n",
       " <img alt=\"家樂福便利購              \" border=\"0\" src=\"59.png\" title=\"家樂福便利購              \" width=\"95\"/>,\n",
       " <img alt=\"節慶瘋狂促銷區\" border=\"0\" src=\"/crazy.png\" style=\"width:95\" title=\"節慶瘋狂促銷區\"/>,\n",
       " <img alt=\"台灣優惠券大全 ios app\" border=\"0\" src=\"/image/coupon95.png\" style=\"width:95\" title=\"台灣優惠券大全 ios app\"/>]"
      ]
     },
     "execution_count": 103,
     "metadata": {},
     "output_type": "execute_result"
    }
   ],
   "source": [
    "import requests\n",
    "from pyquery import PyQuery as pq\n",
    "from bs4 import BeautifulSoup as bs\n",
    "\n",
    "res = requests.get(\"http://coupon.baibai.com.tw/Coupon.asp?store=21\" )\n",
    "res.encoding = \"big5\"\n",
    "doc = pq(res.text)\n",
    "ans = soup.find_all('img')\n",
    "\n",
    "ans\n"
   ]
  },
  {
   "cell_type": "code",
   "execution_count": null,
   "metadata": {},
   "outputs": [],
   "source": []
  },
  {
   "cell_type": "code",
   "execution_count": null,
   "metadata": {},
   "outputs": [],
   "source": []
  },
  {
   "cell_type": "code",
   "execution_count": null,
   "metadata": {},
   "outputs": [],
   "source": []
  },
  {
   "cell_type": "code",
   "execution_count": null,
   "metadata": {},
   "outputs": [],
   "source": []
  }
 ],
 "metadata": {
  "kernelspec": {
   "display_name": "Python 3",
   "language": "python",
   "name": "python3"
  },
  "language_info": {
   "codemirror_mode": {
    "name": "ipython",
    "version": 3
   },
   "file_extension": ".py",
   "mimetype": "text/x-python",
   "name": "python",
   "nbconvert_exporter": "python",
   "pygments_lexer": "ipython3",
   "version": "3.6.4"
  }
 },
 "nbformat": 4,
 "nbformat_minor": 2
}
