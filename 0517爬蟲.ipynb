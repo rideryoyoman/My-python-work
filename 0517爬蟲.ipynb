{
 "cells": [
  {
   "cell_type": "code",
   "execution_count": 1,
   "metadata": {},
   "outputs": [],
   "source": [
    "import requests\n",
    "from pyquery import PyQuery as pq"
   ]
  },
  {
   "cell_type": "code",
   "execution_count": 2,
   "metadata": {},
   "outputs": [],
   "source": [
    "res = requests.get(\"http://webscraper.io/test-sites/e-commerce/allinone\")\n"
   ]
  },
  {
   "cell_type": "code",
   "execution_count": 3,
   "metadata": {},
   "outputs": [
    {
     "data": {
      "text/plain": [
       "'<!DOCTYPE html>\\n<html>\\n<head>\\n    <title>Top items</title>\\n    <meta charset=\"utf-8\">\\n    <meta http-equiv=\"X-UA-Compatible\" content=\"IE=edge,chrome=1\">\\n\\n    <meta name=\"keywords\" content=\"web scraping,Web Scraper,Chrome extension,Crawling,Cross platform scraper, \"/>\\n    <meta name=\"description\" content=\"Web Scraper Chrome extension a free tool to scrape dynamic web pages.\"/>\\n    <link rel=\"icon\" sizes=\"128x128\" href=\"/favicon.png\">\\n\\n    <meta name=\"viewport\" content=\"width=device-width, initial-scale=1.0\">\\n\\t\\n    <link media=\"all\" type=\"text/css\" rel=\"stylesheet\" href=\"/css/app.css\">\\n\\n\\t    <script src=\"/js/app.js\"></script>\\n\\n</head>\\n<body>\\n<div class=\"navbar navbar-default navbar-fixed-top\" role=\"navigation\">\\n    <div class=\"container\">\\n        <div class=\"navbar-header\">\\n            <button type=\"button\" class=\"navbar-toggle\" data-toggle=\"collapse\" data-target=\".navbar-collapse\">\\n                <span class=\"sr-only\">Toggle navigation</span>\\n                <span class=\"icon-bar\"></span>\\n                <span class=\"icon-bar\"></span>\\n                <span class=\"icon-bar\"></span>\\n            </button>\\n            <a class=\"navbar-brand\" href=\"/\">Web Scraper</a>\\n        </div>\\n        <div class=\"navbar-collapse collapse\">\\n            <ul class=\"nav navbar-nav\">\\n\\t\\t\\t\\t                <li ><a href=\"/\">Home</a></li>\\n\\n\\t\\t\\t\\t                <li ><a\\n                            href=\"/screenshots\">Screenshots</a></li>\\n                <li class=\"dropdown\">\\n                    <a href=\"#\" class=\"dropdown-toggle\" data-toggle=\"dropdown\" role=\"button\" aria-expanded=\"false\">Learn\\n                        <span class=\"caret\"></span></a>\\n                    <ul class=\"dropdown-menu\" role=\"menu\">\\n                        <li ><a\\n                                    href=\"/tutorials\">Tutorials</a></li>\\n                        <li ><a\\n                                    href=\"/documentation\">Documentation</a></li>\\n\\t\\t\\t\\t\\t\\t<li><a href=\"https://forum.webscraper.io/\" target=\"_blank\">Forum</a></li>\\n                        <li class=\"divider\"></li>\\n                        <li class=\"active\"><a\\n                                    href=\"/test-sites\">Test sites</a></li>\\n                    </ul>\\n                </li>\\n\\n                                <li >\\n                    <a href=\"/service\">Cloud Scraper</a>\\n                </li>\\n\\t\\t\\t\\t<li ><a href=\"/data-specialist\">Data Specialist</a></li>\\n                <li><a href=\"http://chrome.google.com/webstore/detail/web-scraper/jnhgnonknehpejjnehehllkliplmbmhn\"\\n                       target=\"_blank\">Download</a></li>\\n            </ul>\\n            <ul class=\"nav navbar-nav navbar-right\">\\n\\n\\t\\t\\t\\t\\t\\t\\t\\t            </ul>\\n        </div>\\n    </div>\\n</div>\\n\\n\\t<div class=\"container\">\\n\\t\\t<div class=\"row\">\\n\\t\\t\\t<div class=\"col-md-3 sidebar\">\\n\\t\\t\\t\\t\\t<div class=\"navbar-default sidebar\" role=\"navigation\">\\n\\t<div class=\"sidebar-nav navbar-collapse\">\\n\\t\\t<ul class=\"nav\" id=\"side-menu\">\\n\\n\\t\\t\\t<li class=\"active\">\\n\\t\\t\\t\\t<a href=\"/test-sites/e-commerce/allinone\">Home</a>\\n\\t\\t\\t</li>\\n\\n\\t\\t\\t\\t\\t\\t\\t<li >\\n\\t\\t\\t\\t\\t<a href=\"/test-sites/e-commerce/allinone/computers\" class=\"category-link \">\\n\\t\\t\\t\\t\\t\\tComputers<span class=\"fa arrow\"></span>\\n\\t\\t\\t\\t\\t</a>\\n\\n\\t\\t\\t\\t\\t\\t\\t\\t\\t</li>\\n\\t\\t\\t\\t\\t\\t\\t<li >\\n\\t\\t\\t\\t\\t<a href=\"/test-sites/e-commerce/allinone/phones\" class=\"category-link \">\\n\\t\\t\\t\\t\\t\\tPhones<span class=\"fa arrow\"></span>\\n\\t\\t\\t\\t\\t</a>\\n\\n\\t\\t\\t\\t\\t\\t\\t\\t\\t</li>\\n\\t\\t\\t\\t\\t</ul>\\n\\t</div>\\n</div>\\n\\t\\t\\t</div>\\n\\t\\t\\t<div class=\"col-md-9\">\\n\\t\\t\\t\\t\\n<div class=\"jumbotron\">\\n\\t<h1>E-commerce training site</h1>\\n\\t<p>\\n\\t\\tWelcome to WebScraper e-commerce site. You can use this site for training\\n\\t\\tto learn how to use the Web Scraper. Items listed here are not for sale.\\n\\t</p>\\n</div>\\n\\n<h2>Top items being scraped right now</h2>\\n\\n<div class=\"row\">\\n\\t\\t\\t<div class=\"col-sm-4 col-lg-4 col-md-4\">\\n\\t<div class=\"thumbnail\">\\n\\t\\t<img class=\"img-responsive\" alt=\"item\"\\n\\t\\t\\t src=\"/images/test-sites/e-commerce/items/cart2.png\">\\n\\t\\t<div class=\"caption\">\\n\\t\\t\\t<h4 class=\"pull-right price\">$439.73</h4>\\n\\t\\t\\t<h4>\\n\\t\\t\\t\\t\\t\\t\\t\\t\\t<a href=\"/test-sites/e-commerce/allinone/product/271\" class=\"title\" title=\"Acer Extensa 15 (2540) Black\">Acer Extensa 15...</a>\\n\\t\\t\\t\\t\\t\\t\\t</h4>\\n\\t\\t\\t<p class=\"description\">Acer Extensa 15 (2540) Black, 15.6&quot; HD, Core i5-7200U, 4GB, 500GB, Linux</p>\\n\\n\\t\\t</div>\\n\\t\\t<div class=\"ratings\">\\n\\t\\t\\t<p class=\"pull-right\">6 reviews</p>\\n\\t\\t\\t<p data-rating=\"4\">\\n\\t\\t\\t\\t\\t\\t\\t\\t<span class=\"glyphicon glyphicon-star\"></span>\\n\\t\\t\\t\\t\\t\\t\\t\\t<span class=\"glyphicon glyphicon-star\"></span>\\n\\t\\t\\t\\t\\t\\t\\t\\t<span class=\"glyphicon glyphicon-star\"></span>\\n\\t\\t\\t\\t\\t\\t\\t\\t<span class=\"glyphicon glyphicon-star\"></span>\\n\\t\\t\\t\\t\\t\\t\\t</p>\\n\\t\\t</div>\\n\\t</div>\\n</div>\\t\\t\\t<div class=\"col-sm-4 col-lg-4 col-md-4\">\\n\\t<div class=\"thumbnail\">\\n\\t\\t<img class=\"img-responsive\" alt=\"item\"\\n\\t\\t\\t src=\"/images/test-sites/e-commerce/items/cart2.png\">\\n\\t\\t<div class=\"caption\">\\n\\t\\t\\t<h4 class=\"pull-right price\">$1199.00</h4>\\n\\t\\t\\t<h4>\\n\\t\\t\\t\\t\\t\\t\\t\\t\\t<a href=\"/test-sites/e-commerce/allinone/product/312\" class=\"title\" title=\"MSI GL62M 7REX\">MSI GL62M 7REX</a>\\n\\t\\t\\t\\t\\t\\t\\t</h4>\\n\\t\\t\\t<p class=\"description\">MSI GL62M 7REX, 15.6&quot; FHD, Core i7-7700HQ, 8GB, 1TB + 128GB SSD, GeForce GTX 1050 Ti 2GB, Windows 10 Home</p>\\n\\n\\t\\t</div>\\n\\t\\t<div class=\"ratings\">\\n\\t\\t\\t<p class=\"pull-right\">7 reviews</p>\\n\\t\\t\\t<p data-rating=\"1\">\\n\\t\\t\\t\\t\\t\\t\\t\\t<span class=\"glyphicon glyphicon-star\"></span>\\n\\t\\t\\t\\t\\t\\t\\t</p>\\n\\t\\t</div>\\n\\t</div>\\n</div>\\t\\t\\t<div class=\"col-sm-4 col-lg-4 col-md-4\">\\n\\t<div class=\"thumbnail\">\\n\\t\\t<img class=\"img-responsive\" alt=\"item\"\\n\\t\\t\\t src=\"/images/test-sites/e-commerce/items/cart2.png\">\\n\\t\\t<div class=\"caption\">\\n\\t\\t\\t<h4 class=\"pull-right price\">$485.90</h4>\\n\\t\\t\\t<h4>\\n\\t\\t\\t\\t\\t\\t\\t\\t\\t<a href=\"/test-sites/e-commerce/allinone/product/279\" class=\"title\" title=\"Acer Aspire ES1-572 Black\">Acer Aspire ES1-...</a>\\n\\t\\t\\t\\t\\t\\t\\t</h4>\\n\\t\\t\\t<p class=\"description\">Acer Aspire ES1-572 Black, 15.6&quot; HD, Core i5-7200U, 4GB, 128GB SSD, Linux</p>\\n\\n\\t\\t</div>\\n\\t\\t<div class=\"ratings\">\\n\\t\\t\\t<p class=\"pull-right\">6 reviews</p>\\n\\t\\t\\t<p data-rating=\"3\">\\n\\t\\t\\t\\t\\t\\t\\t\\t<span class=\"glyphicon glyphicon-star\"></span>\\n\\t\\t\\t\\t\\t\\t\\t\\t<span class=\"glyphicon glyphicon-star\"></span>\\n\\t\\t\\t\\t\\t\\t\\t\\t<span class=\"glyphicon glyphicon-star\"></span>\\n\\t\\t\\t\\t\\t\\t\\t</p>\\n\\t\\t</div>\\n\\t</div>\\n</div>\\t</div>\\n\\n\\n\\t\\t\\t</div>\\n\\t\\t</div>\\n\\t</div>\\n\\n<div class=\"footer\">\\n    <div class=\"container\">\\n        <p class=\"text-muted\">&copy; 2018 Web Scraper | <a\\n                    href=\"/contact\">contact</a>     </div>\\n</div>\\n\\n<script>\\n    (function (i, s, o, g, r, a, m) {\\n        i[\\'GoogleAnalyticsObject\\'] = r;\\n        i[r] = i[r] || function () {\\n                (i[r].q = i[r].q || []).push(arguments)\\n            }, i[r].l = 1 * new Date();\\n        a = s.createElement(o),\\n            m = s.getElementsByTagName(o)[0];\\n        a.async = 1;\\n        a.src = g;\\n        m.parentNode.insertBefore(a, m)\\n    })(window, document, \\'script\\', \\'//www.google-analytics.com/analytics.js\\', \\'ga\\');\\n\\n    ga(\\'create\\', \\'UA-47270784-2\\', \\'auto\\');\\n    ga(\\'send\\', \\'pageview\\');\\n\\n</script>\\n\\n</body>\\n</html>\\n'"
      ]
     },
     "execution_count": 3,
     "metadata": {},
     "output_type": "execute_result"
    }
   ],
   "source": [
    "res.text"
   ]
  },
  {
   "cell_type": "markdown",
   "metadata": {},
   "source": [
    "copy selector  檢查後 想要爬的標題使用"
   ]
  },
  {
   "cell_type": "code",
   "execution_count": 4,
   "metadata": {},
   "outputs": [],
   "source": [
    "doc = pq(res.text)"
   ]
  },
  {
   "cell_type": "code",
   "execution_count": 5,
   "metadata": {},
   "outputs": [
    {
     "data": {
      "text/plain": [
       "[<h1>]"
      ]
     },
     "execution_count": 5,
     "metadata": {},
     "output_type": "execute_result"
    }
   ],
   "source": [
    "doc(\"body > div.container > div > div.col-md-9 > div.jumbotron > h1\")"
   ]
  },
  {
   "cell_type": "code",
   "execution_count": 7,
   "metadata": {},
   "outputs": [
    {
     "data": {
      "text/plain": [
       "'E-commerce training site'"
      ]
     },
     "execution_count": 7,
     "metadata": {},
     "output_type": "execute_result"
    }
   ],
   "source": [
    "doc(\"body > div.container > div > div.col-md-9 > div.jumbotron > h1\").text()"
   ]
  },
  {
   "cell_type": "code",
   "execution_count": 8,
   "metadata": {},
   "outputs": [
    {
     "data": {
      "text/plain": [
       "[<p>]"
      ]
     },
     "execution_count": 8,
     "metadata": {},
     "output_type": "execute_result"
    }
   ],
   "source": [
    "doc(\"body > div.container > div > div.col-md-9 > div.jumbotron > p\")\n"
   ]
  },
  {
   "cell_type": "code",
   "execution_count": 9,
   "metadata": {},
   "outputs": [
    {
     "data": {
      "text/plain": [
       "<bound method PyQuery.text of [<p>]>"
      ]
     },
     "execution_count": 9,
     "metadata": {},
     "output_type": "execute_result"
    }
   ],
   "source": [
    "doc(\"body > div.container > div > div.col-md-9 > div.jumbotron > p\").text"
   ]
  },
  {
   "cell_type": "code",
   "execution_count": 10,
   "metadata": {},
   "outputs": [
    {
     "data": {
      "text/plain": [
       "'Welcome to WebScraper e-commerce site. You can use this site for training to learn how to use the Web Scraper. Items listed here are not for sale.'"
      ]
     },
     "execution_count": 10,
     "metadata": {},
     "output_type": "execute_result"
    }
   ],
   "source": [
    "doc(\"body > div.container > div > div.col-md-9 > div.jumbotron > p\").text()"
   ]
  },
  {
   "cell_type": "code",
   "execution_count": 12,
   "metadata": {},
   "outputs": [
    {
     "data": {
      "text/plain": [
       "'Top items\\nToggle navigation Web Scraper\\nHome\\nScreenshots\\nLearn\\nTutorials\\nDocumentation\\nForum\\nTest sites\\nCloud Scraper\\nData Specialist\\nDownload\\nHome\\nComputers\\nPhones\\nE-commerce training site\\nWelcome to WebScraper e-commerce site. You can use this site for training to learn how to use the Web Scraper. Items listed here are not for sale.\\nTop items being scraped right now\\n$439.73\\nAcer Extensa 15...\\nAcer Extensa 15 (2540) Black, 15.6\" HD, Core i5-7200U, 4GB, 500GB, Linux\\n6 reviews\\n$1199.00\\nMSI GL62M 7REX\\nMSI GL62M 7REX, 15.6\" FHD, Core i7-7700HQ, 8GB, 1TB + 128GB SSD, GeForce GTX 1050 Ti 2GB, Windows 10 Home\\n7 reviews\\n$485.90\\nAcer Aspire ES1-...\\nAcer Aspire ES1-572 Black, 15.6\" HD, Core i5-7200U, 4GB, 128GB SSD, Linux\\n6 reviews\\n© 2018 Web Scraper | contact\\n(function (i, s, o, g, r, a, m) { i[\\'GoogleAnalyticsObject\\'] = r; i[r] = i[r] || function () { (i[r].q = i[r].q || []).push(arguments) }, i[r].l = 1 * new Date(); a = s.createElement(o), m = s.getElementsByTagName(o)[0]; a.async = 1; a.src = g; m.parentNode.insertBefore(a, m) })(window, document, \\'script\\', \\'//www.google-analytics.com/analytics.js\\', \\'ga\\'); ga(\\'create\\', \\'UA-47270784-2\\', \\'auto\\'); ga(\\'send\\', \\'pageview\\');'"
      ]
     },
     "execution_count": 12,
     "metadata": {},
     "output_type": "execute_result"
    }
   ],
   "source": [
    "doc(\"html\").text()"
   ]
  },
  {
   "cell_type": "code",
   "execution_count": 13,
   "metadata": {},
   "outputs": [
    {
     "data": {
      "text/plain": [
       "[<div.row>]"
      ]
     },
     "execution_count": 13,
     "metadata": {},
     "output_type": "execute_result"
    }
   ],
   "source": [
    "doc(\"body > div.container > div > div.col-md-9 > div.row\")"
   ]
  },
  {
   "cell_type": "code",
   "execution_count": 14,
   "metadata": {},
   "outputs": [
    {
     "data": {
      "text/plain": [
       "'$439.73\\nAcer Extensa 15...\\nAcer Extensa 15 (2540) Black, 15.6\" HD, Core i5-7200U, 4GB, 500GB, Linux\\n6 reviews\\n$1199.00\\nMSI GL62M 7REX\\nMSI GL62M 7REX, 15.6\" FHD, Core i7-7700HQ, 8GB, 1TB + 128GB SSD, GeForce GTX 1050 Ti 2GB, Windows 10 Home\\n7 reviews\\n$485.90\\nAcer Aspire ES1-...\\nAcer Aspire ES1-572 Black, 15.6\" HD, Core i5-7200U, 4GB, 128GB SSD, Linux\\n6 reviews'"
      ]
     },
     "execution_count": 14,
     "metadata": {},
     "output_type": "execute_result"
    }
   ],
   "source": [
    "doc(\"body > div.container > div > div.col-md-9 > div.row\").text()"
   ]
  },
  {
   "cell_type": "code",
   "execution_count": 16,
   "metadata": {},
   "outputs": [
    {
     "data": {
      "text/plain": [
       "'Acer Aspire ES1-...'"
      ]
     },
     "execution_count": 16,
     "metadata": {},
     "output_type": "execute_result"
    }
   ],
   "source": [
    "doc(\"body > div.container > div > div.col-md-9 > div.row > div:nth-child(3) > div > div.caption > h4:nth-child(2) > a\").text()"
   ]
  },
  {
   "cell_type": "code",
   "execution_count": 17,
   "metadata": {},
   "outputs": [
    {
     "data": {
      "text/plain": [
       "'MSI GL62M 7REX'"
      ]
     },
     "execution_count": 17,
     "metadata": {},
     "output_type": "execute_result"
    }
   ],
   "source": [
    "doc(\"body > div.container > div > div.col-md-9 > div.row > div:nth-child(2) > div > div.caption > h4:nth-child(2) > a\").text()"
   ]
  },
  {
   "cell_type": "code",
   "execution_count": 18,
   "metadata": {},
   "outputs": [
    {
     "data": {
      "text/plain": [
       "'Acer Extensa 15...'"
      ]
     },
     "execution_count": 18,
     "metadata": {},
     "output_type": "execute_result"
    }
   ],
   "source": [
    "doc(\"body > div.container > div > div.col-md-9 > div.row > div:nth-child(1) > div > div.caption > h4:nth-child(2) > a\").text()"
   ]
  },
  {
   "cell_type": "code",
   "execution_count": 21,
   "metadata": {},
   "outputs": [],
   "source": [
    "res2=requests.get(\"http://webscraper.io/test-sites/e-commerce/allinone/computers/laptops\")\n",
    "doc2=pq(res2.text)"
   ]
  },
  {
   "cell_type": "code",
   "execution_count": 35,
   "metadata": {},
   "outputs": [
    {
     "data": {
      "text/plain": [
       "'Asus VivoBook X4... Prestigio SmartB... Prestigio SmartB... Aspire E1-510 Lenovo V110-15IA... Lenovo V110-15IA... Hewlett Packard... Acer Aspire 3 A3... Acer Aspire A315... Acer Aspire ES1-... Acer Aspire 3 A3... Acer Aspire 3 A3... Asus VivoBook Ma... Asus VivoBook E5... Lenovo ThinkPad... Acer Aspire 3 A3... Lenovo V110-15IS... Acer Aspire ES1-... Asus VivoBook 15... Packard 255 G2 Asus EeeBook R41... Acer Aspire 3 A3... Acer Aspire ES1-... Acer Extensa 15... Acer Aspire ES1-... Lenovo V110-15IS... Acer Aspire A315... Lenovo V110-15IK... Asus VivoBook 15... Acer Aspire ES1-... Lenovo V510 Blac... Acer Aspire ES1-... Lenovo V510 Blac... Acer Swift 1 SF1... Dell Vostro 15 Acer Aspire 3 A3... Dell Vostro 15 (... Lenovo V510 Blac... HP 250 G3 Acer Spin 5 HP 350 G1 Aspire E1-572G Pavilion Acer Aspire A515... Dell Inspiron 15 Asus VivoBook S1... ProBook Inspiron 15 Asus ROG STRIX G... Acer Nitro 5 AN5... Asus ROG STRIX G... Lenovo ThinkPad... ThinkPad Yoga Lenovo ThinkPad... Dell Inspiron 15... MSI GL72M 7RDX MSI GL72M 7RDX Asus ROG Strix G... Dell Latitude 52... Dell Latitude 54... Lenovo Legion Y5... Toshiba Portege... Acer Predator He... Acer Aspire 7 A7... Dell Inspiron 17... Dell Latitude 54... Lenovo Legion Y5... Asus AsusPro Adv... Acer Nitro 5 AN5... Dell Latitude 54... Dell Inspiron 15... Dell Latitude 55... MSI GP62M 7RDX L... Lenovo Legion Y5... Lenovo Yoga 720... Toshiba Portege... Acer TravelMate... Dell Latitude 55... ThinkPad T540p MSI GS63 7RD Ste... Dell Latitude 54... Acer Predator He... MSI GL62M 7REX MSI GL62M 7REX2 Lenovo Yoga 910... Toshiba Portege... Lenovo IdeaPad M... Acer Predator He... ThinkPad Yoga Asus VivoBook Pr... Dell Latitude 54... Asus ZenBook UX5... ThinkPad X230 Asus ROG Strix G... Apple MacBook Ai... Dell Latitude 54... Hewlett Packard... Dell XPS 13 Toshiba Portege... MSI GL62VR 7RFX Dell Latitude 54... ThinkPad X240 Hewlett Packard... Apple MacBook Pr... Dell Latitude 55... Dell Latitude 54... Dell Latitude 55... Apple MacBook Ai... Lenovo ThinkPad... Lenovo ThinkPad... Toshiba Portege... Asus ASUSPRO B94... Asus ROG Strix G... Lenovo Legion Y7... Asus ROG Strix G... Asus ROG Strix G... Asus ROG Strix S...'"
      ]
     },
     "execution_count": 35,
     "metadata": {},
     "output_type": "execute_result"
    }
   ],
   "source": [
    "doc2(\".title\").text()"
   ]
  },
  {
   "cell_type": "code",
   "execution_count": 33,
   "metadata": {},
   "outputs": [
    {
     "data": {
      "text/plain": [
       "''"
      ]
     },
     "execution_count": 33,
     "metadata": {},
     "output_type": "execute_result"
    }
   ],
   "source": [
    "doc2(\"div:nth-child(2n+1) .thumbnail.title\").text()"
   ]
  },
  {
   "cell_type": "code",
   "execution_count": null,
   "metadata": {},
   "outputs": [],
   "source": []
  }
 ],
 "metadata": {
  "kernelspec": {
   "display_name": "Python 3",
   "language": "python",
   "name": "python3"
  },
  "language_info": {
   "codemirror_mode": {
    "name": "ipython",
    "version": 3
   },
   "file_extension": ".py",
   "mimetype": "text/x-python",
   "name": "python",
   "nbconvert_exporter": "python",
   "pygments_lexer": "ipython3",
   "version": "3.6.4"
  }
 },
 "nbformat": 4,
 "nbformat_minor": 2
}
