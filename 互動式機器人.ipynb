{
 "cells": [
  {
   "cell_type": "code",
   "execution_count": null,
   "metadata": {},
   "outputs": [],
   "source": [
    "a = input(\"a = \")"
   ]
  },
  {
   "cell_type": "code",
   "execution_count": null,
   "metadata": {},
   "outputs": [],
   "source": [
    "a"
   ]
  },
  {
   "cell_type": "code",
   "execution_count": null,
   "metadata": {},
   "outputs": [],
   "source": [
    "價格 = input(\"price = \")"
   ]
  },
  {
   "cell_type": "code",
   "execution_count": null,
   "metadata": {},
   "outputs": [],
   "source": [
    "價格"
   ]
  },
  {
   "cell_type": "code",
   "execution_count": null,
   "metadata": {},
   "outputs": [],
   "source": [
    "m * 5"
   ]
  },
  {
   "cell_type": "code",
   "execution_count": null,
   "metadata": {},
   "outputs": [],
   "source": [
    "m * 5.5"
   ]
  },
  {
   "cell_type": "markdown",
   "metadata": {},
   "source": [
    "這邊的input 是字串"
   ]
  },
  {
   "cell_type": "code",
   "execution_count": null,
   "metadata": {},
   "outputs": [],
   "source": [
    "double(m)"
   ]
  },
  {
   "cell_type": "code",
   "execution_count": null,
   "metadata": {},
   "outputs": [],
   "source": [
    "float(m)"
   ]
  },
  {
   "cell_type": "code",
   "execution_count": null,
   "metadata": {},
   "outputs": [],
   "source": [
    "float(m) * 2"
   ]
  },
  {
   "cell_type": "code",
   "execution_count": null,
   "metadata": {},
   "outputs": [],
   "source": [
    "double(m) * 1"
   ]
  },
  {
   "cell_type": "code",
   "execution_count": null,
   "metadata": {},
   "outputs": [],
   "source": [
    "價格 = input(\"price = \")\n",
    "sales = int(價格)*0.85\n",
    "print(\"sales = \" + str(sales)) "
   ]
  },
  {
   "cell_type": "code",
   "execution_count": null,
   "metadata": {},
   "outputs": [],
   "source": [
    "sales"
   ]
  },
  {
   "cell_type": "code",
   "execution_count": null,
   "metadata": {},
   "outputs": [],
   "source": [
    "\"price :\" str(sales) + dollars"
   ]
  },
  {
   "cell_type": "code",
   "execution_count": null,
   "metadata": {},
   "outputs": [],
   "source": [
    "\"price :\" + str(sales) + \"dollars\""
   ]
  },
  {
   "cell_type": "markdown",
   "metadata": {},
   "source": [
    "# 拍PY.機器人 1.0\n"
   ]
  },
  {
   "cell_type": "code",
   "execution_count": null,
   "metadata": {},
   "outputs": [],
   "source": [
    "message = input(\">>\")\n",
    "print(\"你好！\")\n"
   ]
  },
  {
   "cell_type": "code",
   "execution_count": null,
   "metadata": {},
   "outputs": [],
   "source": [
    "message = input(\">>\")\n",
    "print(\"已轉接專人，謝謝您耐心的等候!\")"
   ]
  },
  {
   "cell_type": "markdown",
   "metadata": {},
   "source": [
    "# 拍PY.機器人 2.0"
   ]
  },
  {
   "cell_type": "code",
   "execution_count": null,
   "metadata": {},
   "outputs": [],
   "source": [
    "message = \"\"\n",
    "while message != \"再見\":\n",
    "    message = input(\">>\")\n",
    "    print(\"已轉接專人，謝謝您耐心的等候!\")"
   ]
  },
  {
   "cell_type": "code",
   "execution_count": null,
   "metadata": {},
   "outputs": [],
   "source": [
    "message = \"123\"\n",
    "while message != \"881\":\n",
    "    message = input(\">>\")\n",
    "    print(\"87\")\n"
   ]
  },
  {
   "cell_type": "code",
   "execution_count": null,
   "metadata": {},
   "outputs": [],
   "source": [
    "while message != \"881\":\n",
    "    message = input(\">>\")\n",
    "    print(\"87\")"
   ]
  },
  {
   "cell_type": "code",
   "execution_count": null,
   "metadata": {},
   "outputs": [],
   "source": [
    "message\n"
   ]
  },
  {
   "cell_type": "code",
   "execution_count": null,
   "metadata": {},
   "outputs": [],
   "source": [
    "message = \"123\"\n",
    "while message != \"881\":\n",
    "    message = input(\">>\")\n",
    "    print(\"87\")\n"
   ]
  },
  {
   "cell_type": "code",
   "execution_count": null,
   "metadata": {},
   "outputs": [],
   "source": [
    "message"
   ]
  },
  {
   "cell_type": "markdown",
   "metadata": {},
   "source": [
    "# 拍PY.機器人3.0"
   ]
  },
  {
   "cell_type": "code",
   "execution_count": null,
   "metadata": {},
   "outputs": [],
   "source": [
    "message = input(\" >> \")\n",
    "if(\"謝謝\" in message):\n",
    "    print(\"謝謝你的訊息，很高興為您服務！\")"
   ]
  },
  {
   "cell_type": "code",
   "execution_count": null,
   "metadata": {},
   "outputs": [],
   "source": [
    "message = input(\" >> \")\n",
    "if(\"謝謝\" in message):\n",
    "    print(\"謝謝你的訊息，很高興為您服務！\")\n",
    "else:\n",
    "    print(\"如果還有什麼問題，歡迎繼續提問\")"
   ]
  },
  {
   "cell_type": "code",
   "execution_count": null,
   "metadata": {},
   "outputs": [],
   "source": [
    "message = input(\" >> \")\n",
    "if(\"難過\" in message):\n",
    "    print(\"可悲\")\n",
    "elif(\"開心\" in message):\n",
    "    print(\"你難過嗎\")\n",
    "else:\n",
    "    print(\"可悲可\")"
   ]
  },
  {
   "cell_type": "code",
   "execution_count": null,
   "metadata": {},
   "outputs": [],
   "source": [
    "message = \"\"\n",
    "while message != \"再見\":\n",
    "    message = input(\">>\")\n",
    "    print(\"已轉接專人，謝謝您耐心的等候!\")\n",
    "if(\"謝謝\" in message):\n",
    "    print(\"謝謝你的訊息，很高興為您服務！\") "
   ]
  },
  {
   "cell_type": "markdown",
   "metadata": {},
   "source": [
    "# 拍PY.機器人3.0"
   ]
  },
  {
   "cell_type": "code",
   "execution_count": null,
   "metadata": {},
   "outputs": [],
   "source": [
    "message = input(\" >> \")\n",
    "if(\"謝謝\" in message):\n",
    "    print(\"謝謝你的訊息，很高興為您服務！\")\n",
    "else:\n",
    "    print(\"如果還有什麼問題，歡迎繼續提問\")"
   ]
  },
  {
   "cell_type": "code",
   "execution_count": null,
   "metadata": {},
   "outputs": [],
   "source": [
    "message = input(\" >> \")\n",
    "if(\"難過\" in message):\n",
    "    print(\"可悲\")\n",
    "elif(\"開心\" in message):\n",
    "    print(\"你難過嗎\")\n",
    "else:\n",
    "    print(\"可悲可\")"
   ]
  },
  {
   "cell_type": "code",
   "execution_count": null,
   "metadata": {},
   "outputs": [],
   "source": [
    "message = \"離線客服\"\n",
    "while (message != \"謝謝\"):\n",
    "    message = input(\" >> \")\n",
    "    if(\"謝謝\" in message):\n",
    "        print(\"謝謝你的來電\")\n",
    "    elif(\"地址\" in message):\n",
    "        print(\"台北市文山區指南路二段64號\")\n",
    "    elif(\"營業\" in message):\n",
    "        print(\"早上9點到中午12點\")\n",
    "    elif(\"?\" in message):\n",
    "        print(\"已轉接專人，謝謝您耐心的等候!\")\n",
    "    else:\n",
    "        print(\"請在問題後面加入問號，客服將會耐心為您解答\")\n",
    "    \n"
   ]
  },
  {
   "cell_type": "code",
   "execution_count": 4,
   "metadata": {},
   "outputs": [
    {
     "name": "stdout",
     "output_type": "stream",
     "text": [
      "輸入妳的預算80\n",
      "小木屋鬆餅\n",
      "結果是否滿意(T/F)F\n",
      "輸入妳的預算120\n",
      "湯饌\n",
      "結果是否滿意(T/F)F\n",
      "輸入妳的預算150\n",
      "大呼過癮\n",
      "結果是否滿意(T/F)F\n",
      "輸入妳的預算230\n",
      "Juicy Bun\n",
      "結果是否滿意(T/F)T\n"
     ]
    }
   ],
   "source": [
    "import random\n",
    "Dic = {1:\"憩賢樓\" , 2:\"羹大王\" , 3:\"私房麵\"\n",
    "      , 4:\"八方雲集\" , 5:\"45大街\" , 6:\"重慶酸辣粉\"\n",
    "      , 7:\"小木屋鬆餅\" , 8:\"左撇子\" , 9:\"廢墟\"\n",
    "      , 10:\"鬼匠拉麵\" , 11:\"麥當勞\" , 12:\"湯饌\"\n",
    "      , 13:\"城市怪獸\" , 14:\"提洛斯\" , 15:\"大呼過癮\"\n",
    "      , 16:\"吉野家\" , 17:\"樂山\" , 18:\"甘泉魚麵\"\n",
    "      , 19:\"Juicy Bun\" , 20:\"舒曼\" , 21:\"多果\"\n",
    "      , 22:\"金鰭\" , 23:\"米塔\" , 24:\"里客\"\n",
    "      , 25:\"Shibu鮮\" , 26:\"小曼谷\" , 27:\"韓大佬\"\n",
    "      }\n",
    "\n",
    "b = 'F'\n",
    "\n",
    "while b == 'F':\n",
    "    cheap = Dic[random.randint(1,9)]\n",
    "    medium = Dic[random.randint(10,18)]\n",
    "    expensive = Dic[random.randint(19,27)]\n",
    "    \n",
    "    a = int(input(\"輸入妳的預算\"))\n",
    "    if(a<100):\n",
    "        print(cheap)\n",
    "    elif(a<200):\n",
    "        print(medium)\n",
    "    else:\n",
    "        print(expensive)\n",
    "    b =input(\"結果是否滿意(T/F)\")\n",
    "    \n",
    "    \n",
    "    "
   ]
  },
  {
   "cell_type": "code",
   "execution_count": null,
   "metadata": {},
   "outputs": [],
   "source": []
  },
  {
   "cell_type": "code",
   "execution_count": null,
   "metadata": {},
   "outputs": [],
   "source": []
  }
 ],
 "metadata": {
  "kernelspec": {
   "display_name": "Python 3",
   "language": "python",
   "name": "python3"
  },
  "language_info": {
   "codemirror_mode": {
    "name": "ipython",
    "version": 3
   },
   "file_extension": ".py",
   "mimetype": "text/x-python",
   "name": "python",
   "nbconvert_exporter": "python",
   "pygments_lexer": "ipython3",
   "version": "3.7.3"
  }
 },
 "nbformat": 4,
 "nbformat_minor": 2
}
